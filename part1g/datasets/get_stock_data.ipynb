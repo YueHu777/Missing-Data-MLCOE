{
 "cells": [
  {
   "cell_type": "markdown",
   "id": "0ed8e445",
   "metadata": {},
   "source": [
    "## Get Data"
   ]
  },
  {
   "cell_type": "code",
   "execution_count": 2,
   "id": "057f5952",
   "metadata": {},
   "outputs": [],
   "source": [
    "import numpy as np\n",
    "import pandas as pd\n",
    "import matplotlib.pyplot as plt\n",
    "\n",
    "data_frames = pd.read_html(\n",
    "    io='https://en.wikipedia.org/wiki/Dow_Jones_Industrial_Average',\n",
    "    index_col=0)\n",
    "df = pd.DataFrame({'Symbol': data_frames[1]['Symbol'],\n",
    "             'Industry': data_frames[1]['Industry']})\n",
    "DJ_tickers = list(df['Symbol'])"
   ]
  },
  {
   "cell_type": "code",
   "execution_count": 3,
   "id": "7778680a",
   "metadata": {},
   "outputs": [
    {
     "name": "stdout",
     "output_type": "stream",
     "text": [
      "[*********************100%***********************]  30 of 30 completed\n"
     ]
    }
   ],
   "source": [
    "import yfinance as yf\n",
    "DJdata = yf.download(DJ_tickers, start=\"2012-12-01\", end=\"2022-12-01\")"
   ]
  },
  {
   "cell_type": "code",
   "execution_count": 4,
   "id": "5029c420",
   "metadata": {},
   "outputs": [
    {
     "data": {
      "text/html": [
       "<div>\n",
       "<style scoped>\n",
       "    .dataframe tbody tr th:only-of-type {\n",
       "        vertical-align: middle;\n",
       "    }\n",
       "\n",
       "    .dataframe tbody tr th {\n",
       "        vertical-align: top;\n",
       "    }\n",
       "\n",
       "    .dataframe thead tr th {\n",
       "        text-align: left;\n",
       "    }\n",
       "</style>\n",
       "<table border=\"1\" class=\"dataframe\">\n",
       "  <thead>\n",
       "    <tr>\n",
       "      <th></th>\n",
       "      <th>Date</th>\n",
       "      <th colspan=\"9\" halign=\"left\">Adj Close</th>\n",
       "      <th>...</th>\n",
       "      <th colspan=\"10\" halign=\"left\">Volume</th>\n",
       "    </tr>\n",
       "    <tr>\n",
       "      <th></th>\n",
       "      <th></th>\n",
       "      <th>AAPL</th>\n",
       "      <th>AMGN</th>\n",
       "      <th>AXP</th>\n",
       "      <th>BA</th>\n",
       "      <th>CAT</th>\n",
       "      <th>CRM</th>\n",
       "      <th>CSCO</th>\n",
       "      <th>CVX</th>\n",
       "      <th>DIS</th>\n",
       "      <th>...</th>\n",
       "      <th>MRK</th>\n",
       "      <th>MSFT</th>\n",
       "      <th>NKE</th>\n",
       "      <th>PG</th>\n",
       "      <th>TRV</th>\n",
       "      <th>UNH</th>\n",
       "      <th>V</th>\n",
       "      <th>VZ</th>\n",
       "      <th>WBA</th>\n",
       "      <th>WMT</th>\n",
       "    </tr>\n",
       "  </thead>\n",
       "  <tbody>\n",
       "    <tr>\n",
       "      <th>0</th>\n",
       "      <td>2012-12-03</td>\n",
       "      <td>18.004154</td>\n",
       "      <td>68.242210</td>\n",
       "      <td>48.335842</td>\n",
       "      <td>62.027992</td>\n",
       "      <td>63.669312</td>\n",
       "      <td>39.262501</td>\n",
       "      <td>13.922759</td>\n",
       "      <td>69.210670</td>\n",
       "      <td>44.131493</td>\n",
       "      <td>...</td>\n",
       "      <td>12177865</td>\n",
       "      <td>53173800</td>\n",
       "      <td>8688000</td>\n",
       "      <td>7404600</td>\n",
       "      <td>1807900</td>\n",
       "      <td>3861300</td>\n",
       "      <td>11736800</td>\n",
       "      <td>11458400</td>\n",
       "      <td>6427900</td>\n",
       "      <td>9086800</td>\n",
       "    </tr>\n",
       "    <tr>\n",
       "      <th>1</th>\n",
       "      <td>2012-12-04</td>\n",
       "      <td>17.686563</td>\n",
       "      <td>68.188210</td>\n",
       "      <td>48.206333</td>\n",
       "      <td>62.053127</td>\n",
       "      <td>63.420662</td>\n",
       "      <td>39.235001</td>\n",
       "      <td>14.025187</td>\n",
       "      <td>68.747772</td>\n",
       "      <td>44.140438</td>\n",
       "      <td>...</td>\n",
       "      <td>10476751</td>\n",
       "      <td>49777500</td>\n",
       "      <td>7028400</td>\n",
       "      <td>6634900</td>\n",
       "      <td>1808400</td>\n",
       "      <td>5948900</td>\n",
       "      <td>9100800</td>\n",
       "      <td>12945800</td>\n",
       "      <td>7172000</td>\n",
       "      <td>12820500</td>\n",
       "    </tr>\n",
       "    <tr>\n",
       "      <th>2</th>\n",
       "      <td>2012-12-05</td>\n",
       "      <td>16.548313</td>\n",
       "      <td>68.713142</td>\n",
       "      <td>48.689785</td>\n",
       "      <td>61.902302</td>\n",
       "      <td>64.844917</td>\n",
       "      <td>39.217499</td>\n",
       "      <td>14.054451</td>\n",
       "      <td>69.547928</td>\n",
       "      <td>44.400101</td>\n",
       "      <td>...</td>\n",
       "      <td>12206056</td>\n",
       "      <td>68283800</td>\n",
       "      <td>6764400</td>\n",
       "      <td>7623400</td>\n",
       "      <td>5874000</td>\n",
       "      <td>4495100</td>\n",
       "      <td>11971200</td>\n",
       "      <td>15334900</td>\n",
       "      <td>11230700</td>\n",
       "      <td>9513200</td>\n",
       "    </tr>\n",
       "    <tr>\n",
       "      <th>3</th>\n",
       "      <td>2012-12-06</td>\n",
       "      <td>16.807846</td>\n",
       "      <td>68.350311</td>\n",
       "      <td>48.448051</td>\n",
       "      <td>61.994457</td>\n",
       "      <td>64.769562</td>\n",
       "      <td>39.352501</td>\n",
       "      <td>14.251987</td>\n",
       "      <td>70.394394</td>\n",
       "      <td>44.600105</td>\n",
       "      <td>...</td>\n",
       "      <td>9240216</td>\n",
       "      <td>39182300</td>\n",
       "      <td>9092000</td>\n",
       "      <td>10686900</td>\n",
       "      <td>2500600</td>\n",
       "      <td>3771900</td>\n",
       "      <td>9124000</td>\n",
       "      <td>15506000</td>\n",
       "      <td>6952000</td>\n",
       "      <td>7166100</td>\n",
       "    </tr>\n",
       "    <tr>\n",
       "      <th>4</th>\n",
       "      <td>2012-12-07</td>\n",
       "      <td>16.378160</td>\n",
       "      <td>68.180466</td>\n",
       "      <td>48.871067</td>\n",
       "      <td>62.547523</td>\n",
       "      <td>65.553268</td>\n",
       "      <td>39.174999</td>\n",
       "      <td>14.149565</td>\n",
       "      <td>70.751472</td>\n",
       "      <td>44.763737</td>\n",
       "      <td>...</td>\n",
       "      <td>8247236</td>\n",
       "      <td>46162100</td>\n",
       "      <td>7418000</td>\n",
       "      <td>11590900</td>\n",
       "      <td>2303600</td>\n",
       "      <td>4206200</td>\n",
       "      <td>7557200</td>\n",
       "      <td>11139400</td>\n",
       "      <td>6025000</td>\n",
       "      <td>7283000</td>\n",
       "    </tr>\n",
       "  </tbody>\n",
       "</table>\n",
       "<p>5 rows × 175 columns</p>\n",
       "</div>"
      ],
      "text/plain": [
       "        Date  Adj Close                                              \\\n",
       "                   AAPL       AMGN        AXP         BA        CAT   \n",
       "0 2012-12-03  18.004154  68.242210  48.335842  62.027992  63.669312   \n",
       "1 2012-12-04  17.686563  68.188210  48.206333  62.053127  63.420662   \n",
       "2 2012-12-05  16.548313  68.713142  48.689785  61.902302  64.844917   \n",
       "3 2012-12-06  16.807846  68.350311  48.448051  61.994457  64.769562   \n",
       "4 2012-12-07  16.378160  68.180466  48.871067  62.547523  65.553268   \n",
       "\n",
       "                                               ...    Volume            \\\n",
       "         CRM       CSCO        CVX        DIS  ...       MRK      MSFT   \n",
       "0  39.262501  13.922759  69.210670  44.131493  ...  12177865  53173800   \n",
       "1  39.235001  14.025187  68.747772  44.140438  ...  10476751  49777500   \n",
       "2  39.217499  14.054451  69.547928  44.400101  ...  12206056  68283800   \n",
       "3  39.352501  14.251987  70.394394  44.600105  ...   9240216  39182300   \n",
       "4  39.174999  14.149565  70.751472  44.763737  ...   8247236  46162100   \n",
       "\n",
       "                                                                                \n",
       "       NKE        PG      TRV      UNH         V        VZ       WBA       WMT  \n",
       "0  8688000   7404600  1807900  3861300  11736800  11458400   6427900   9086800  \n",
       "1  7028400   6634900  1808400  5948900   9100800  12945800   7172000  12820500  \n",
       "2  6764400   7623400  5874000  4495100  11971200  15334900  11230700   9513200  \n",
       "3  9092000  10686900  2500600  3771900   9124000  15506000   6952000   7166100  \n",
       "4  7418000  11590900  2303600  4206200   7557200  11139400   6025000   7283000  \n",
       "\n",
       "[5 rows x 175 columns]"
      ]
     },
     "execution_count": 4,
     "metadata": {},
     "output_type": "execute_result"
    }
   ],
   "source": [
    "DJdata = DJdata.reset_index().dropna(axis = 1)\n",
    "DJdata.head()"
   ]
  },
  {
   "cell_type": "code",
   "execution_count": 5,
   "id": "e42675cc",
   "metadata": {},
   "outputs": [],
   "source": [
    "data_frames = pd.read_html(\n",
    "    io='https://en.wikipedia.org/wiki/EURO_STOXX_50#Composition',\n",
    "    index_col=0)\n",
    "ES_tickers = pd.DataFrame({'Symbol': data_frames[3].index})"
   ]
  },
  {
   "cell_type": "code",
   "execution_count": 6,
   "id": "b062070b",
   "metadata": {},
   "outputs": [
    {
     "name": "stdout",
     "output_type": "stream",
     "text": [
      "[*********************100%***********************]  50 of 50 completed\n"
     ]
    }
   ],
   "source": [
    "ESdata = yf.download(list(ES_tickers['Symbol']), start=\"2012-12-01\", end=\"2022-12-01\")\n"
   ]
  },
  {
   "cell_type": "code",
   "execution_count": 7,
   "id": "04ab461e",
   "metadata": {},
   "outputs": [
    {
     "data": {
      "text/html": [
       "<div>\n",
       "<style scoped>\n",
       "    .dataframe tbody tr th:only-of-type {\n",
       "        vertical-align: middle;\n",
       "    }\n",
       "\n",
       "    .dataframe tbody tr th {\n",
       "        vertical-align: top;\n",
       "    }\n",
       "\n",
       "    .dataframe thead tr th {\n",
       "        text-align: left;\n",
       "    }\n",
       "</style>\n",
       "<table border=\"1\" class=\"dataframe\">\n",
       "  <thead>\n",
       "    <tr>\n",
       "      <th></th>\n",
       "      <th>Date</th>\n",
       "      <th colspan=\"9\" halign=\"left\">Adj Close</th>\n",
       "      <th>...</th>\n",
       "      <th colspan=\"10\" halign=\"left\">Volume</th>\n",
       "    </tr>\n",
       "    <tr>\n",
       "      <th></th>\n",
       "      <th></th>\n",
       "      <th>ABI.BR</th>\n",
       "      <th>AD.AS</th>\n",
       "      <th>ADS.DE</th>\n",
       "      <th>AI.PA</th>\n",
       "      <th>AIR.PA</th>\n",
       "      <th>ALV.DE</th>\n",
       "      <th>ASML.AS</th>\n",
       "      <th>BAS.DE</th>\n",
       "      <th>BAYN.DE</th>\n",
       "      <th>...</th>\n",
       "      <th>RMS.PA</th>\n",
       "      <th>SAF.PA</th>\n",
       "      <th>SAN.MC</th>\n",
       "      <th>SAN.PA</th>\n",
       "      <th>SAP.DE</th>\n",
       "      <th>SIE.DE</th>\n",
       "      <th>STLA.MI</th>\n",
       "      <th>SU.PA</th>\n",
       "      <th>TTE.PA</th>\n",
       "      <th>VOW.DE</th>\n",
       "    </tr>\n",
       "  </thead>\n",
       "  <tbody>\n",
       "    <tr>\n",
       "      <th>0</th>\n",
       "      <td>2012-12-03</td>\n",
       "      <td>49.791088</td>\n",
       "      <td>6.961987</td>\n",
       "      <td>56.710117</td>\n",
       "      <td>49.850109</td>\n",
       "      <td>22.364405</td>\n",
       "      <td>63.046535</td>\n",
       "      <td>43.686462</td>\n",
       "      <td>41.658916</td>\n",
       "      <td>49.875309</td>\n",
       "      <td>...</td>\n",
       "      <td>30357.0</td>\n",
       "      <td>535515.0</td>\n",
       "      <td>50255268.0</td>\n",
       "      <td>2137537.0</td>\n",
       "      <td>2141503.0</td>\n",
       "      <td>1839783.0</td>\n",
       "      <td>25227632.0</td>\n",
       "      <td>1137798.0</td>\n",
       "      <td>4184773.0</td>\n",
       "      <td>87203.0</td>\n",
       "    </tr>\n",
       "    <tr>\n",
       "      <th>1</th>\n",
       "      <td>2012-12-04</td>\n",
       "      <td>49.476658</td>\n",
       "      <td>7.026826</td>\n",
       "      <td>56.609032</td>\n",
       "      <td>49.770763</td>\n",
       "      <td>22.474344</td>\n",
       "      <td>63.109447</td>\n",
       "      <td>42.577671</td>\n",
       "      <td>41.347095</td>\n",
       "      <td>50.010483</td>\n",
       "      <td>...</td>\n",
       "      <td>16586.0</td>\n",
       "      <td>555817.0</td>\n",
       "      <td>54310777.0</td>\n",
       "      <td>1454423.0</td>\n",
       "      <td>1826890.0</td>\n",
       "      <td>1561833.0</td>\n",
       "      <td>17953874.0</td>\n",
       "      <td>881521.0</td>\n",
       "      <td>3399852.0</td>\n",
       "      <td>64091.0</td>\n",
       "    </tr>\n",
       "    <tr>\n",
       "      <th>2</th>\n",
       "      <td>2012-12-05</td>\n",
       "      <td>48.862392</td>\n",
       "      <td>7.093090</td>\n",
       "      <td>56.305763</td>\n",
       "      <td>49.474583</td>\n",
       "      <td>23.028275</td>\n",
       "      <td>63.612808</td>\n",
       "      <td>42.835632</td>\n",
       "      <td>41.556980</td>\n",
       "      <td>49.903767</td>\n",
       "      <td>...</td>\n",
       "      <td>28149.0</td>\n",
       "      <td>358542.0</td>\n",
       "      <td>67708585.0</td>\n",
       "      <td>2038512.0</td>\n",
       "      <td>2735773.0</td>\n",
       "      <td>1897947.0</td>\n",
       "      <td>17792817.0</td>\n",
       "      <td>1538257.0</td>\n",
       "      <td>4036178.0</td>\n",
       "      <td>88992.0</td>\n",
       "    </tr>\n",
       "    <tr>\n",
       "      <th>3</th>\n",
       "      <td>2012-12-06</td>\n",
       "      <td>49.140266</td>\n",
       "      <td>7.178592</td>\n",
       "      <td>56.701694</td>\n",
       "      <td>50.040516</td>\n",
       "      <td>24.863430</td>\n",
       "      <td>64.619545</td>\n",
       "      <td>43.401344</td>\n",
       "      <td>42.174633</td>\n",
       "      <td>51.603977</td>\n",
       "      <td>...</td>\n",
       "      <td>18563.0</td>\n",
       "      <td>661594.0</td>\n",
       "      <td>49105868.0</td>\n",
       "      <td>2676636.0</td>\n",
       "      <td>3338318.0</td>\n",
       "      <td>3189384.0</td>\n",
       "      <td>26505293.0</td>\n",
       "      <td>1582235.0</td>\n",
       "      <td>4898770.0</td>\n",
       "      <td>119016.0</td>\n",
       "    </tr>\n",
       "    <tr>\n",
       "      <th>4</th>\n",
       "      <td>2012-12-07</td>\n",
       "      <td>49.425449</td>\n",
       "      <td>7.232032</td>\n",
       "      <td>56.988106</td>\n",
       "      <td>50.051094</td>\n",
       "      <td>25.197481</td>\n",
       "      <td>64.682472</td>\n",
       "      <td>44.215965</td>\n",
       "      <td>41.982738</td>\n",
       "      <td>51.148685</td>\n",
       "      <td>...</td>\n",
       "      <td>23106.0</td>\n",
       "      <td>722990.0</td>\n",
       "      <td>45621561.0</td>\n",
       "      <td>2197382.0</td>\n",
       "      <td>2966156.0</td>\n",
       "      <td>1988649.0</td>\n",
       "      <td>22369683.0</td>\n",
       "      <td>1330979.0</td>\n",
       "      <td>4963217.0</td>\n",
       "      <td>78854.0</td>\n",
       "    </tr>\n",
       "  </tbody>\n",
       "</table>\n",
       "<p>5 rows × 283 columns</p>\n",
       "</div>"
      ],
      "text/plain": [
       "        Date  Adj Close                                                        \\\n",
       "                 ABI.BR     AD.AS     ADS.DE      AI.PA     AIR.PA     ALV.DE   \n",
       "0 2012-12-03  49.791088  6.961987  56.710117  49.850109  22.364405  63.046535   \n",
       "1 2012-12-04  49.476658  7.026826  56.609032  49.770763  22.474344  63.109447   \n",
       "2 2012-12-05  48.862392  7.093090  56.305763  49.474583  23.028275  63.612808   \n",
       "3 2012-12-06  49.140266  7.178592  56.701694  50.040516  24.863430  64.619545   \n",
       "4 2012-12-07  49.425449  7.232032  56.988106  50.051094  25.197481  64.682472   \n",
       "\n",
       "                                    ...   Volume                        \\\n",
       "     ASML.AS     BAS.DE    BAYN.DE  ...   RMS.PA    SAF.PA      SAN.MC   \n",
       "0  43.686462  41.658916  49.875309  ...  30357.0  535515.0  50255268.0   \n",
       "1  42.577671  41.347095  50.010483  ...  16586.0  555817.0  54310777.0   \n",
       "2  42.835632  41.556980  49.903767  ...  28149.0  358542.0  67708585.0   \n",
       "3  43.401344  42.174633  51.603977  ...  18563.0  661594.0  49105868.0   \n",
       "4  44.215965  41.982738  51.148685  ...  23106.0  722990.0  45621561.0   \n",
       "\n",
       "                                                                                \n",
       "      SAN.PA     SAP.DE     SIE.DE     STLA.MI      SU.PA     TTE.PA    VOW.DE  \n",
       "0  2137537.0  2141503.0  1839783.0  25227632.0  1137798.0  4184773.0   87203.0  \n",
       "1  1454423.0  1826890.0  1561833.0  17953874.0   881521.0  3399852.0   64091.0  \n",
       "2  2038512.0  2735773.0  1897947.0  17792817.0  1538257.0  4036178.0   88992.0  \n",
       "3  2676636.0  3338318.0  3189384.0  26505293.0  1582235.0  4898770.0  119016.0  \n",
       "4  2197382.0  2966156.0  1988649.0  22369683.0  1330979.0  4963217.0   78854.0  \n",
       "\n",
       "[5 rows x 283 columns]"
      ]
     },
     "execution_count": 7,
     "metadata": {},
     "output_type": "execute_result"
    }
   ],
   "source": [
    "ESdata = ESdata.reset_index().dropna(axis=1,subset=np.arange(7), thresh=3)\n",
    "ESdata.head()"
   ]
  },
  {
   "cell_type": "code",
   "execution_count": 8,
   "id": "f48598cf",
   "metadata": {},
   "outputs": [],
   "source": [
    "data_frames = pd.read_html(\n",
    "    io='https://en.wikipedia.org/wiki/Hang_Seng_Index',\n",
    "    index_col=0)\n",
    "HS_tickers = pd.DataFrame({'Symbol': data_frames[6].index})"
   ]
  },
  {
   "cell_type": "code",
   "execution_count": 9,
   "id": "ed778ace",
   "metadata": {},
   "outputs": [],
   "source": [
    "import re\n",
    "HS_symbol = []\n",
    "for i in range(len(HS_tickers)):\n",
    "    HS_symbol.append(re.split(r'[：|\\s+]', HS_tickers['Symbol'][i])[1].zfill(4)+'.HK')"
   ]
  },
  {
   "cell_type": "code",
   "execution_count": 10,
   "id": "1b3783d7",
   "metadata": {},
   "outputs": [
    {
     "name": "stdout",
     "output_type": "stream",
     "text": [
      "[*********************100%***********************]  73 of 73 completed\n"
     ]
    }
   ],
   "source": [
    "HSdata = yf.download(HS_symbol, start=\"2012-12-01\", end=\"2022-12-01\")\n"
   ]
  },
  {
   "cell_type": "code",
   "execution_count": 11,
   "id": "ae68a004",
   "metadata": {},
   "outputs": [
    {
     "data": {
      "text/html": [
       "<div>\n",
       "<style scoped>\n",
       "    .dataframe tbody tr th:only-of-type {\n",
       "        vertical-align: middle;\n",
       "    }\n",
       "\n",
       "    .dataframe tbody tr th {\n",
       "        vertical-align: top;\n",
       "    }\n",
       "\n",
       "    .dataframe thead tr th {\n",
       "        text-align: left;\n",
       "    }\n",
       "</style>\n",
       "<table border=\"1\" class=\"dataframe\">\n",
       "  <thead>\n",
       "    <tr>\n",
       "      <th></th>\n",
       "      <th>Date</th>\n",
       "      <th colspan=\"9\" halign=\"left\">Adj Close</th>\n",
       "      <th>...</th>\n",
       "      <th colspan=\"10\" halign=\"left\">Volume</th>\n",
       "    </tr>\n",
       "    <tr>\n",
       "      <th></th>\n",
       "      <th></th>\n",
       "      <th>0001.HK</th>\n",
       "      <th>0002.HK</th>\n",
       "      <th>0003.HK</th>\n",
       "      <th>0005.HK</th>\n",
       "      <th>0006.HK</th>\n",
       "      <th>0011.HK</th>\n",
       "      <th>0012.HK</th>\n",
       "      <th>0016.HK</th>\n",
       "      <th>0017.HK</th>\n",
       "      <th>...</th>\n",
       "      <th>2313.HK</th>\n",
       "      <th>2318.HK</th>\n",
       "      <th>2319.HK</th>\n",
       "      <th>2331.HK</th>\n",
       "      <th>2382.HK</th>\n",
       "      <th>2388.HK</th>\n",
       "      <th>2628.HK</th>\n",
       "      <th>2688.HK</th>\n",
       "      <th>3968.HK</th>\n",
       "      <th>3988.HK</th>\n",
       "    </tr>\n",
       "  </thead>\n",
       "  <tbody>\n",
       "    <tr>\n",
       "      <th>0</th>\n",
       "      <td>2012-12-03</td>\n",
       "      <td>52.532536</td>\n",
       "      <td>44.211933</td>\n",
       "      <td>7.729591</td>\n",
       "      <td>48.347389</td>\n",
       "      <td>33.960495</td>\n",
       "      <td>78.955696</td>\n",
       "      <td>18.752647</td>\n",
       "      <td>72.233559</td>\n",
       "      <td>27.264793</td>\n",
       "      <td>...</td>\n",
       "      <td>381583</td>\n",
       "      <td>16595488</td>\n",
       "      <td>9026620</td>\n",
       "      <td>2344394</td>\n",
       "      <td>2149540</td>\n",
       "      <td>12096483</td>\n",
       "      <td>16246617</td>\n",
       "      <td>1261903</td>\n",
       "      <td>14541087</td>\n",
       "      <td>257043672</td>\n",
       "    </tr>\n",
       "    <tr>\n",
       "      <th>1</th>\n",
       "      <td>2012-12-04</td>\n",
       "      <td>52.757614</td>\n",
       "      <td>44.014565</td>\n",
       "      <td>7.711273</td>\n",
       "      <td>48.625416</td>\n",
       "      <td>33.563004</td>\n",
       "      <td>78.352966</td>\n",
       "      <td>18.597666</td>\n",
       "      <td>72.490402</td>\n",
       "      <td>26.953957</td>\n",
       "      <td>...</td>\n",
       "      <td>395796</td>\n",
       "      <td>32180190</td>\n",
       "      <td>8058000</td>\n",
       "      <td>710074</td>\n",
       "      <td>925000</td>\n",
       "      <td>8425776</td>\n",
       "      <td>18382701</td>\n",
       "      <td>384000</td>\n",
       "      <td>22606047</td>\n",
       "      <td>267614888</td>\n",
       "    </tr>\n",
       "    <tr>\n",
       "      <th>2</th>\n",
       "      <td>2012-12-05</td>\n",
       "      <td>53.342823</td>\n",
       "      <td>44.540894</td>\n",
       "      <td>7.857806</td>\n",
       "      <td>49.428638</td>\n",
       "      <td>33.786594</td>\n",
       "      <td>79.558395</td>\n",
       "      <td>19.010948</td>\n",
       "      <td>73.196678</td>\n",
       "      <td>27.398012</td>\n",
       "      <td>...</td>\n",
       "      <td>215005</td>\n",
       "      <td>603273466</td>\n",
       "      <td>27412296</td>\n",
       "      <td>2389903</td>\n",
       "      <td>3321000</td>\n",
       "      <td>9623660</td>\n",
       "      <td>52239010</td>\n",
       "      <td>2652000</td>\n",
       "      <td>40586199</td>\n",
       "      <td>483662457</td>\n",
       "    </tr>\n",
       "    <tr>\n",
       "      <th>3</th>\n",
       "      <td>2012-12-06</td>\n",
       "      <td>53.387829</td>\n",
       "      <td>44.376411</td>\n",
       "      <td>7.839487</td>\n",
       "      <td>49.181492</td>\n",
       "      <td>33.786594</td>\n",
       "      <td>79.692329</td>\n",
       "      <td>19.217588</td>\n",
       "      <td>73.389290</td>\n",
       "      <td>27.531227</td>\n",
       "      <td>...</td>\n",
       "      <td>458004</td>\n",
       "      <td>35203708</td>\n",
       "      <td>16868842</td>\n",
       "      <td>1845414</td>\n",
       "      <td>5865300</td>\n",
       "      <td>8926594</td>\n",
       "      <td>24430040</td>\n",
       "      <td>1710400</td>\n",
       "      <td>39305621</td>\n",
       "      <td>272872791</td>\n",
       "    </tr>\n",
       "    <tr>\n",
       "      <th>4</th>\n",
       "      <td>2012-12-07</td>\n",
       "      <td>53.342823</td>\n",
       "      <td>44.080360</td>\n",
       "      <td>7.711273</td>\n",
       "      <td>48.965237</td>\n",
       "      <td>33.339413</td>\n",
       "      <td>79.022659</td>\n",
       "      <td>19.148710</td>\n",
       "      <td>73.453522</td>\n",
       "      <td>27.575634</td>\n",
       "      <td>...</td>\n",
       "      <td>997104</td>\n",
       "      <td>35492904</td>\n",
       "      <td>11863760</td>\n",
       "      <td>2809557</td>\n",
       "      <td>2285933</td>\n",
       "      <td>10574707</td>\n",
       "      <td>25470082</td>\n",
       "      <td>2484904</td>\n",
       "      <td>36653088</td>\n",
       "      <td>403066610</td>\n",
       "    </tr>\n",
       "  </tbody>\n",
       "</table>\n",
       "<p>5 rows × 343 columns</p>\n",
       "</div>"
      ],
      "text/plain": [
       "        Date  Adj Close                                                        \\\n",
       "                0001.HK    0002.HK   0003.HK    0005.HK    0006.HK    0011.HK   \n",
       "0 2012-12-03  52.532536  44.211933  7.729591  48.347389  33.960495  78.955696   \n",
       "1 2012-12-04  52.757614  44.014565  7.711273  48.625416  33.563004  78.352966   \n",
       "2 2012-12-05  53.342823  44.540894  7.857806  49.428638  33.786594  79.558395   \n",
       "3 2012-12-06  53.387829  44.376411  7.839487  49.181492  33.786594  79.692329   \n",
       "4 2012-12-07  53.342823  44.080360  7.711273  48.965237  33.339413  79.022659   \n",
       "\n",
       "                                    ...  Volume                                \\\n",
       "     0012.HK    0016.HK    0017.HK  ... 2313.HK    2318.HK   2319.HK  2331.HK   \n",
       "0  18.752647  72.233559  27.264793  ...  381583   16595488   9026620  2344394   \n",
       "1  18.597666  72.490402  26.953957  ...  395796   32180190   8058000   710074   \n",
       "2  19.010948  73.196678  27.398012  ...  215005  603273466  27412296  2389903   \n",
       "3  19.217588  73.389290  27.531227  ...  458004   35203708  16868842  1845414   \n",
       "4  19.148710  73.453522  27.575634  ...  997104   35492904  11863760  2809557   \n",
       "\n",
       "                                                              \n",
       "   2382.HK   2388.HK   2628.HK  2688.HK   3968.HK    3988.HK  \n",
       "0  2149540  12096483  16246617  1261903  14541087  257043672  \n",
       "1   925000   8425776  18382701   384000  22606047  267614888  \n",
       "2  3321000   9623660  52239010  2652000  40586199  483662457  \n",
       "3  5865300   8926594  24430040  1710400  39305621  272872791  \n",
       "4  2285933  10574707  25470082  2484904  36653088  403066610  \n",
       "\n",
       "[5 rows x 343 columns]"
      ]
     },
     "execution_count": 11,
     "metadata": {},
     "output_type": "execute_result"
    }
   ],
   "source": [
    "HSdata = HSdata.reset_index().dropna(axis=1,subset=np.arange(7), thresh=3)\n",
    "HSdata.head()"
   ]
  },
  {
   "cell_type": "markdown",
   "id": "af74c0dc",
   "metadata": {},
   "source": [
    "## Sliding Window "
   ]
  },
  {
   "cell_type": "code",
   "execution_count": 12,
   "id": "201e13ac",
   "metadata": {},
   "outputs": [
    {
     "name": "stderr",
     "output_type": "stream",
     "text": [
      "C:\\Users\\85409\\anaconda3\\lib\\site-packages\\pandas\\core\\generic.py:4150: PerformanceWarning: dropping on a non-lexsorted multi-index without a level parameter may impact performance.\n",
      "  obj = obj._drop_axis(labels, axis, level=level, errors=errors)\n"
     ]
    }
   ],
   "source": [
    "AllData = pd.merge(DJdata, ESdata,how = 'outer', left_on ='Date',right_on = 'Date')\n",
    "AllData = AllData.merge(HSdata,how = 'outer', left_on ='Date',right_on = 'Date')\n",
    "AllData = AllData.sort_values('Date')\n",
    "AllData = AllData.reset_index().drop('index',axis = 1)\n",
    "AllData = AllData.drop(['Date'],axis = 1)"
   ]
  },
  {
   "cell_type": "code",
   "execution_count": 30,
   "id": "2e5f688b",
   "metadata": {},
   "outputs": [
    {
     "name": "stderr",
     "output_type": "stream",
     "text": [
      "C:\\Users\\85409\\anaconda3\\lib\\site-packages\\pandas\\core\\generic.py:4150: PerformanceWarning: dropping on a non-lexsorted multi-index without a level parameter may impact performance.\n",
      "  obj = obj._drop_axis(labels, axis, level=level, errors=errors)\n"
     ]
    }
   ],
   "source": [
    "AllData9 = pd.merge(DJdata[['Date','Close']].iloc[:,:4], ESdata[['Date','Close']].iloc[:,:4],how = 'outer', left_on ='Date',right_on = 'Date')\n",
    "AllData9 = AllData9.merge(HSdata[['Date','Close']].iloc[:,:4],how = 'outer', left_on ='Date',right_on = 'Date')\n",
    "AllData9 = AllData9.sort_values('Date')\n",
    "AllData9 = AllData9.reset_index().drop('index',axis = 1)\n",
    "AllData9 = AllData9.drop(['Date'],axis = 1)"
   ]
  },
  {
   "cell_type": "code",
   "execution_count": 82,
   "id": "ed3e5938",
   "metadata": {},
   "outputs": [],
   "source": [
    "AllData_log = np.log(AllData)"
   ]
  },
  {
   "cell_type": "code",
   "execution_count": 19,
   "id": "a086db40",
   "metadata": {},
   "outputs": [],
   "source": [
    "AllDatawindow = []\n",
    "window_size = 100\n",
    "for i in range(len(AllData) - window_size + 1):\n",
    "    AllDatawindow.append(AllData[['Close']][i: i + window_size])\n",
    "AllDatawindow = np.array(AllDatawindow)"
   ]
  },
  {
   "cell_type": "code",
   "execution_count": 32,
   "id": "a4e443f5",
   "metadata": {},
   "outputs": [],
   "source": [
    "AllDatawindow9 = []\n",
    "window_size = 100\n",
    "for i in range(len(AllData9) - window_size + 1):\n",
    "    AllDatawindow9.append(AllData9[['Close']][i: i + window_size])\n",
    "AllDatawindow9 = np.array(AllDatawindow9)"
   ]
  },
  {
   "cell_type": "code",
   "execution_count": 83,
   "id": "1c3a9f13",
   "metadata": {},
   "outputs": [],
   "source": [
    "AllDatawindow_log = []\n",
    "window_size = 100\n",
    "for i in range(len(AllData_log) - window_size + 1):\n",
    "    AllDatawindow_log.append(AllData_log[['Close']][i: i + window_size])\n",
    "AllDatawindow_log = np.array(AllDatawindow_log)"
   ]
  },
  {
   "cell_type": "code",
   "execution_count": 85,
   "id": "dbf5f221",
   "metadata": {},
   "outputs": [],
   "source": [
    "AllDatawindow_train,AllDatawindow_test = np.split(AllDatawindow,[1600])\n",
    "AllDatawindow_train9,AllDatawindow_test9 = np.split(AllDatawindow9,[1600])\n",
    "AllDatawindow_train_log,AllDatawindow_test_log = np.split(AllDatawindow_log,[1600])\n"
   ]
  },
  {
   "cell_type": "code",
   "execution_count": 86,
   "id": "02ec3f43",
   "metadata": {},
   "outputs": [],
   "source": [
    "np.save('train_data_ms.npy', AllDatawindow_train)\n",
    "np.save('test_data_ms.npy', AllDatawindow_test)\n",
    "np.save('train_data_ms9.npy', AllDatawindow_train)\n",
    "np.save('test_data_ms9.npy', AllDatawindow_test)\n",
    "np.save('train_data_ms_log.npy', AllDatawindow_train_log)\n",
    "np.save('test_data_ms_log.npy', AllDatawindow_test_log)"
   ]
  },
  {
   "cell_type": "code",
   "execution_count": 87,
   "id": "71d07f05",
   "metadata": {
    "scrolled": true
   },
   "outputs": [
    {
     "data": {
      "text/plain": [
       "[<matplotlib.lines.Line2D at 0x1ec7fdabc70>]"
      ]
     },
     "execution_count": 87,
     "metadata": {},
     "output_type": "execute_result"
    },
    {
     "data": {
      "image/png": "[encoded data removed]",
      "text/plain": [
       "<Figure size 432x288 with 1 Axes>"
      ]
     },
     "metadata": {
      "needs_background": "light"
     },
     "output_type": "display_data"
    }
   ],
   "source": [
    "plt.plot(np.log(AllData.iloc[:,0]))\n",
    "# plt.plot(AllData.iloc[:,0])"
   ]
  },
  {
   "cell_type": "markdown",
   "id": "3d88723c",
   "metadata": {},
   "source": [
    "## Get Time Mask"
   ]
  },
  {
   "cell_type": "code",
   "execution_count": 18,
   "id": "b1f3c870",
   "metadata": {},
   "outputs": [],
   "source": [
    "# all_ind=pd.concat(AllData[['Close']].loc[:i,:].notna().sum().to_frame().transpose() for i in range(len(AllData[['Close']])))\n",
    "# diff_ind=all_ind - all_ind.shift(1)\n",
    "# AllData = AllData.reset_index()\n",
    "# AllData = AllData.dropna()\n",
    "# AllData['diff_idx']=AllData['index'] - AllData['index'].shift(1)\n",
    "# diff_ind = diff_ind.reset_index().drop('index',axis = 1).reset_index()\n",
    "# diff_ind = diff_ind.merge(AllData[['index','diff_idx']],how ='inner',left_on = 'index',right_on = 'index')"
   ]
  },
  {
   "cell_type": "code",
   "execution_count": 19,
   "id": "f1d557ed",
   "metadata": {},
   "outputs": [],
   "source": [
    "# mask = pd.concat(diff_ind['diff_idx']-diff_ind.iloc[:,i].to_frame().transpose() for i in range(1,diff_ind.shape[1]-1)).transpose()\n",
    "# mask = mask.dropna()\n",
    "# AllData = AllData.dropna().drop(['index','Date','diff_idx'],axis = 1)"
   ]
  },
  {
   "cell_type": "code",
   "execution_count": 14,
   "id": "62d88892",
   "metadata": {},
   "outputs": [],
   "source": [
    "# maskDJ=pd.concat([mask.iloc[:,:29]]*6,axis = 1)\n",
    "# maskEU=pd.concat([mask.iloc[:,29:76]]*6,axis = 1)\n",
    "# maskHK=pd.concat([mask.iloc[:,76:]]*6,axis = 1)\n",
    "# Allmask=pd.concat([maskDJ,maskEU,maskHK],axis = 1)"
   ]
  },
  {
   "cell_type": "code",
   "execution_count": 37,
   "id": "dd96cf1d",
   "metadata": {},
   "outputs": [],
   "source": [
    "# AllData_part = pd.concat([AllData[['Close']].iloc[:,0:3],AllData[['Close']].iloc[:,29:32],AllData[['Close']].iloc[:,76:79]],axis = 1)\n",
    "# Allmask_part =  pd.concat([mask.iloc[:,0:3],mask.iloc[:,29:32],mask.iloc[:,76:79]],axis = 1)\n",
    "# Allmask_part"
   ]
  },
  {
   "cell_type": "code",
   "execution_count": 21,
   "id": "b6f4ff85",
   "metadata": {},
   "outputs": [],
   "source": [
    "# AllDatawindow = []\n",
    "# window_size = 100\n",
    "# for i in range(len(AllData) - window_size + 1):\n",
    "#     AllDatawindow.append(AllData[['Close']][i: i + window_size])\n",
    "# AllDatawindow = np.array(AllDatawindow)"
   ]
  },
  {
   "cell_type": "code",
   "execution_count": 24,
   "id": "7e2a6b2b",
   "metadata": {},
   "outputs": [],
   "source": [
    "# Maskwindow = []\n",
    "# window_size = 100\n",
    "# for i in range(len(mask) - window_size + 1):\n",
    "#     Maskwindow.append(mask[i: i + window_size])\n",
    "# Maskwindow = np.array(Maskwindow)"
   ]
  },
  {
   "cell_type": "code",
   "execution_count": 27,
   "id": "591a2727",
   "metadata": {},
   "outputs": [],
   "source": [
    "# np.save('finance_mask_Close.npy', Maskwindow)"
   ]
  },
  {
   "cell_type": "code",
   "execution_count": 28,
   "id": "32dc6562",
   "metadata": {},
   "outputs": [],
   "source": [
    "# np.save('finance_data_Close.npy', AllDatawindow)"
   ]
  },
  {
   "cell_type": "code",
   "execution_count": 3,
   "id": "4d9d8d97",
   "metadata": {},
   "outputs": [],
   "source": [
    "# import numpy as np\n",
    "# AllDatawindow = np.load('finance_data_Close.npy')\n",
    "# Maskwindow = np.load('finance_mask_Close.npy')"
   ]
  },
  {
   "cell_type": "code",
   "execution_count": 29,
   "id": "7332d595",
   "metadata": {},
   "outputs": [],
   "source": [
    "# p = np.random.permutation(len(AllDatawindow))\n",
    "# AllDatawindow=AllDatawindow[p]\n",
    "# Maskwindow = Maskwindow[p]"
   ]
  },
  {
   "cell_type": "code",
   "execution_count": 38,
   "id": "92583f56",
   "metadata": {},
   "outputs": [],
   "source": [
    "# Maskwindow_train_pos[0]"
   ]
  },
  {
   "cell_type": "code",
   "execution_count": 30,
   "id": "a0ab4948",
   "metadata": {},
   "outputs": [],
   "source": [
    "# AllDatawindow_train,AllDatawindow_test = np.split(AllDatawindow,[1600])\n",
    "# Maskwindow_train,Maskwindow_test = np.split(Maskwindow,[1600])"
   ]
  },
  {
   "cell_type": "code",
   "execution_count": 31,
   "id": "2c2f9de5",
   "metadata": {},
   "outputs": [],
   "source": [
    "# Maskwindow_train_pos=np.zeros(Maskwindow_train.shape)\n",
    "# Maskwindow_test_pos=np.zeros(Maskwindow_test.shape)\n",
    "# for i in range(100):\n",
    "#     Maskwindow_train_pos[:,i,:] = (Maskwindow_train[:,:i,:].sum(axis = 1)+i)/100\n",
    "#     Maskwindow_test_pos[:,i,:] = (Maskwindow_test[:,:i,:].sum(axis = 1)+i)/100    "
   ]
  },
  {
   "cell_type": "code",
   "execution_count": 32,
   "id": "7e2d97e1",
   "metadata": {},
   "outputs": [],
   "source": [
    "# np.save('train_data_Close.npy', AllDatawindow_train)\n",
    "# np.save('test_data_Close.npy', AllDatawindow_test)\n",
    "# np.save('train_mask_Close.npy', Maskwindow_train_pos)\n",
    "# np.save('test_mask_Close.npy', Maskwindow_test_pos)"
   ]
  },
  {
   "cell_type": "markdown",
   "id": "d92ab416",
   "metadata": {},
   "source": [
    "## HK Change Predict"
   ]
  },
  {
   "cell_type": "code",
   "execution_count": 98,
   "id": "eb028914",
   "metadata": {
    "scrolled": true
   },
   "outputs": [],
   "source": [
    "Change = AllData['High']-AllData['Low']\n",
    "Change9 = pd.concat([Change.iloc[:,:3],Change.iloc[:,29:32],Change.iloc[:,75:78]],axis=1)"
   ]
  },
  {
   "cell_type": "code",
   "execution_count": 48,
   "id": "6a3e65dc",
   "metadata": {},
   "outputs": [],
   "source": [
    "Changewindow = []\n",
    "window_size = 100\n",
    "for i in range(len(Change) - window_size + 1):\n",
    "    Changewindow.append(Change[i: i + window_size])\n",
    "Changewindow = np.array(Changewindow)"
   ]
  },
  {
   "cell_type": "code",
   "execution_count": 95,
   "id": "1e980cf1",
   "metadata": {},
   "outputs": [],
   "source": [
    "Changewindow9 = []\n",
    "window_size = 100\n",
    "for i in range(len(Change9) - window_size + 1):\n",
    "    Changewindow9.append(Change9[i: i + window_size])\n",
    "Changewindow9 = np.array(Changewindow9)"
   ]
  },
  {
   "cell_type": "code",
   "execution_count": 96,
   "id": "fd436bc7",
   "metadata": {},
   "outputs": [],
   "source": [
    "Changewindow_train,Changewindow_test = np.split(Changewindow,[1600])\n",
    "Changewindow_train9,Changewindow_test9 = np.split(Changewindow9,[1600])"
   ]
  },
  {
   "cell_type": "code",
   "execution_count": 97,
   "id": "bfac42a5",
   "metadata": {},
   "outputs": [],
   "source": [
    "np.save('Changewindow_train.npy', Changewindow_train)\n",
    "np.save('Changewindow_test.npy', Changewindow_test)\n",
    "np.save('Changewindow_train9.npy', Changewindow_train9)\n",
    "np.save('Changewindow_test9.npy', Changewindow_test9)"
   ]
  },
  {
   "cell_type": "code",
   "execution_count": 61,
   "id": "36dd5141",
   "metadata": {},
   "outputs": [
    {
     "data": {
      "text/plain": [
       "[<matplotlib.lines.Line2D at 0x1ec7ffd4340>]"
      ]
     },
     "execution_count": 61,
     "metadata": {},
     "output_type": "execute_result"
    },
    {
     "data": {
      "image/png": "[encoded data removed]",
      "text/plain": [
       "<Figure size 432x288 with 1 Axes>"
      ]
     },
     "metadata": {
      "needs_background": "light"
     },
     "output_type": "display_data"
    }
   ],
   "source": [
    "plt.plot(Change.iloc[:,1])"
   ]
  },
  {
   "cell_type": "code",
   "execution_count": null,
   "id": "774a6954",
   "metadata": {},
   "outputs": [],
   "source": []
  }
 ],
 "metadata": {
  "kernelspec": {
   "display_name": "Python 3 (ipykernel)",
   "language": "python",
   "name": "python3"
  },
  "language_info": {
   "codemirror_mode": {
    "name": "ipython",
    "version": 3
   },
   "file_extension": ".py",
   "mimetype": "text/x-python",
   "name": "python",
   "nbconvert_exporter": "python",
   "pygments_lexer": "ipython3",
   "version": "3.9.7"
  }
 },
 "nbformat": 4,
 "nbformat_minor": 5
}
